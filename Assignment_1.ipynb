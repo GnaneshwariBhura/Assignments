{
 "cells": [
  {
   "cell_type": "code",
   "execution_count": 1,
   "metadata": {},
   "outputs": [],
   "source": [
    "import pandas as pd\n",
    "import numpy as np\n"
   ]
  },
  {
   "cell_type": "code",
   "execution_count": 2,
   "metadata": {},
   "outputs": [
    {
     "name": "stdout",
     "output_type": "stream",
     "text": [
      "Requirement already satisfied: matplotlib in c:\\users\\gyaneshwaribhura(qua\\appdata\\local\\programs\\python\\python310\\lib\\site-packages (3.9.2)\n",
      "Requirement already satisfied: contourpy>=1.0.1 in c:\\users\\gyaneshwaribhura(qua\\appdata\\local\\programs\\python\\python310\\lib\\site-packages (from matplotlib) (1.3.0)\n",
      "Requirement already satisfied: cycler>=0.10 in c:\\users\\gyaneshwaribhura(qua\\appdata\\local\\programs\\python\\python310\\lib\\site-packages (from matplotlib) (0.12.1)\n",
      "Requirement already satisfied: fonttools>=4.22.0 in c:\\users\\gyaneshwaribhura(qua\\appdata\\local\\programs\\python\\python310\\lib\\site-packages (from matplotlib) (4.54.1)\n",
      "Requirement already satisfied: kiwisolver>=1.3.1 in c:\\users\\gyaneshwaribhura(qua\\appdata\\local\\programs\\python\\python310\\lib\\site-packages (from matplotlib) (1.4.7)\n",
      "Requirement already satisfied: numpy>=1.23 in c:\\users\\gyaneshwaribhura(qua\\appdata\\local\\programs\\python\\python310\\lib\\site-packages (from matplotlib) (2.1.1)\n",
      "Requirement already satisfied: packaging>=20.0 in c:\\users\\gyaneshwaribhura(qua\\appdata\\roaming\\python\\python310\\site-packages (from matplotlib) (24.1)\n",
      "Requirement already satisfied: pillow>=8 in c:\\users\\gyaneshwaribhura(qua\\appdata\\local\\programs\\python\\python310\\lib\\site-packages (from matplotlib) (10.4.0)\n",
      "Requirement already satisfied: pyparsing>=2.3.1 in c:\\users\\gyaneshwaribhura(qua\\appdata\\local\\programs\\python\\python310\\lib\\site-packages (from matplotlib) (3.1.4)\n",
      "Requirement already satisfied: python-dateutil>=2.7 in c:\\users\\gyaneshwaribhura(qua\\appdata\\roaming\\python\\python310\\site-packages (from matplotlib) (2.9.0.post0)\n",
      "Requirement already satisfied: six>=1.5 in c:\\users\\gyaneshwaribhura(qua\\appdata\\roaming\\python\\python310\\site-packages (from python-dateutil>=2.7->matplotlib) (1.16.0)\n",
      "Note: you may need to restart the kernel to use updated packages.\n"
     ]
    }
   ],
   "source": [
    "pip install matplotlib"
   ]
  },
  {
   "cell_type": "code",
   "execution_count": 77,
   "metadata": {},
   "outputs": [],
   "source": [
    "import matplotlib as mp\n",
    "import yfinance as yf"
   ]
  },
  {
   "cell_type": "markdown",
   "metadata": {},
   "source": [
    "# QUESTION 1\n",
    "\n",
    "\n",
    "# Retrieves the closing stock prices for the last 7 days.Stores each day's closing price in a list. Calculates and prints the average closing price over these 7 days. Prints the list of closing prices. \n"
   ]
  },
  {
   "cell_type": "code",
   "execution_count": 5,
   "metadata": {},
   "outputs": [
    {
     "name": "stdin",
     "output_type": "stream",
     "text": [
      "Enter any ticker symbol NVDA\n"
     ]
    },
    {
     "name": "stderr",
     "output_type": "stream",
     "text": [
      "[*********************100%***********************]  1 of 1 completed\n",
      "[*********************100%***********************]  1 of 1 completed\n"
     ]
    }
   ],
   "source": [
    "User_input=input(\"Enter any ticker symbol\")\n",
    "d=yf.download(User_input)\n",
    "data=yf.Ticker(User_input)\n",
    "df=yf.download(User_input)\n"
   ]
  },
  {
   "cell_type": "code",
   "execution_count": 7,
   "metadata": {},
   "outputs": [
    {
     "data": {
      "text/html": [
       "<div>\n",
       "<style scoped>\n",
       "    .dataframe tbody tr th:only-of-type {\n",
       "        vertical-align: middle;\n",
       "    }\n",
       "\n",
       "    .dataframe tbody tr th {\n",
       "        vertical-align: top;\n",
       "    }\n",
       "\n",
       "    .dataframe thead th {\n",
       "        text-align: right;\n",
       "    }\n",
       "</style>\n",
       "<table border=\"1\" class=\"dataframe\">\n",
       "  <thead>\n",
       "    <tr style=\"text-align: right;\">\n",
       "      <th></th>\n",
       "      <th>Open</th>\n",
       "      <th>High</th>\n",
       "      <th>Low</th>\n",
       "      <th>Close</th>\n",
       "      <th>Adj Close</th>\n",
       "      <th>Volume</th>\n",
       "    </tr>\n",
       "    <tr>\n",
       "      <th>Date</th>\n",
       "      <th></th>\n",
       "      <th></th>\n",
       "      <th></th>\n",
       "      <th></th>\n",
       "      <th></th>\n",
       "      <th></th>\n",
       "    </tr>\n",
       "  </thead>\n",
       "  <tbody>\n",
       "    <tr>\n",
       "      <th>1999-01-22</th>\n",
       "      <td>0.043750</td>\n",
       "      <td>0.048828</td>\n",
       "      <td>0.038802</td>\n",
       "      <td>0.041016</td>\n",
       "      <td>0.037618</td>\n",
       "      <td>2714688000</td>\n",
       "    </tr>\n",
       "    <tr>\n",
       "      <th>1999-01-25</th>\n",
       "      <td>0.044271</td>\n",
       "      <td>0.045833</td>\n",
       "      <td>0.041016</td>\n",
       "      <td>0.045313</td>\n",
       "      <td>0.041559</td>\n",
       "      <td>510480000</td>\n",
       "    </tr>\n",
       "    <tr>\n",
       "      <th>1999-01-26</th>\n",
       "      <td>0.045833</td>\n",
       "      <td>0.046745</td>\n",
       "      <td>0.041146</td>\n",
       "      <td>0.041797</td>\n",
       "      <td>0.038334</td>\n",
       "      <td>343200000</td>\n",
       "    </tr>\n",
       "    <tr>\n",
       "      <th>1999-01-27</th>\n",
       "      <td>0.041927</td>\n",
       "      <td>0.042969</td>\n",
       "      <td>0.039583</td>\n",
       "      <td>0.041667</td>\n",
       "      <td>0.038215</td>\n",
       "      <td>244368000</td>\n",
       "    </tr>\n",
       "    <tr>\n",
       "      <th>1999-01-28</th>\n",
       "      <td>0.041667</td>\n",
       "      <td>0.041927</td>\n",
       "      <td>0.041276</td>\n",
       "      <td>0.041536</td>\n",
       "      <td>0.038095</td>\n",
       "      <td>227520000</td>\n",
       "    </tr>\n",
       "    <tr>\n",
       "      <th>...</th>\n",
       "      <td>...</td>\n",
       "      <td>...</td>\n",
       "      <td>...</td>\n",
       "      <td>...</td>\n",
       "      <td>...</td>\n",
       "      <td>...</td>\n",
       "    </tr>\n",
       "    <tr>\n",
       "      <th>2024-09-24</th>\n",
       "      <td>116.519997</td>\n",
       "      <td>121.800003</td>\n",
       "      <td>115.379997</td>\n",
       "      <td>120.870003</td>\n",
       "      <td>120.870003</td>\n",
       "      <td>354966800</td>\n",
       "    </tr>\n",
       "    <tr>\n",
       "      <th>2024-09-25</th>\n",
       "      <td>122.019997</td>\n",
       "      <td>124.940002</td>\n",
       "      <td>121.610001</td>\n",
       "      <td>123.510002</td>\n",
       "      <td>123.510002</td>\n",
       "      <td>284692900</td>\n",
       "    </tr>\n",
       "    <tr>\n",
       "      <th>2024-09-26</th>\n",
       "      <td>126.800003</td>\n",
       "      <td>127.669998</td>\n",
       "      <td>121.800003</td>\n",
       "      <td>124.040001</td>\n",
       "      <td>124.040001</td>\n",
       "      <td>302582900</td>\n",
       "    </tr>\n",
       "    <tr>\n",
       "      <th>2024-09-27</th>\n",
       "      <td>123.970001</td>\n",
       "      <td>124.029999</td>\n",
       "      <td>119.260002</td>\n",
       "      <td>121.400002</td>\n",
       "      <td>121.400002</td>\n",
       "      <td>271009200</td>\n",
       "    </tr>\n",
       "    <tr>\n",
       "      <th>2024-09-30</th>\n",
       "      <td>118.309998</td>\n",
       "      <td>121.500000</td>\n",
       "      <td>118.150002</td>\n",
       "      <td>121.440002</td>\n",
       "      <td>121.440002</td>\n",
       "      <td>226553700</td>\n",
       "    </tr>\n",
       "  </tbody>\n",
       "</table>\n",
       "<p>6464 rows × 6 columns</p>\n",
       "</div>"
      ],
      "text/plain": [
       "                  Open        High         Low       Close   Adj Close  \\\n",
       "Date                                                                     \n",
       "1999-01-22    0.043750    0.048828    0.038802    0.041016    0.037618   \n",
       "1999-01-25    0.044271    0.045833    0.041016    0.045313    0.041559   \n",
       "1999-01-26    0.045833    0.046745    0.041146    0.041797    0.038334   \n",
       "1999-01-27    0.041927    0.042969    0.039583    0.041667    0.038215   \n",
       "1999-01-28    0.041667    0.041927    0.041276    0.041536    0.038095   \n",
       "...                ...         ...         ...         ...         ...   \n",
       "2024-09-24  116.519997  121.800003  115.379997  120.870003  120.870003   \n",
       "2024-09-25  122.019997  124.940002  121.610001  123.510002  123.510002   \n",
       "2024-09-26  126.800003  127.669998  121.800003  124.040001  124.040001   \n",
       "2024-09-27  123.970001  124.029999  119.260002  121.400002  121.400002   \n",
       "2024-09-30  118.309998  121.500000  118.150002  121.440002  121.440002   \n",
       "\n",
       "                Volume  \n",
       "Date                    \n",
       "1999-01-22  2714688000  \n",
       "1999-01-25   510480000  \n",
       "1999-01-26   343200000  \n",
       "1999-01-27   244368000  \n",
       "1999-01-28   227520000  \n",
       "...                ...  \n",
       "2024-09-24   354966800  \n",
       "2024-09-25   284692900  \n",
       "2024-09-26   302582900  \n",
       "2024-09-27   271009200  \n",
       "2024-09-30   226553700  \n",
       "\n",
       "[6464 rows x 6 columns]"
      ]
     },
     "execution_count": 7,
     "metadata": {},
     "output_type": "execute_result"
    }
   ],
   "source": [
    "df"
   ]
  },
  {
   "cell_type": "code",
   "execution_count": 8,
   "metadata": {},
   "outputs": [
    {
     "name": "stdout",
     "output_type": "stream",
     "text": [
      "Closing prices for the last 7 days:  [116.0, 116.26000213623047, 120.87000274658203, 123.51000213623047, 124.04000091552734, 121.4000015258789, 121.44000244140625]\n"
     ]
    }
   ],
   "source": [
    "column=df[\"Close\"]\n",
    "col_list=column.tolist()\n",
    "col_list\n",
    "Close_list=col_list[-7:]\n",
    "print(\"Closing prices for the last 7 days: \",Close_list)"
   ]
  },
  {
   "cell_type": "code",
   "execution_count": 71,
   "metadata": {},
   "outputs": [
    {
     "name": "stdout",
     "output_type": "stream",
     "text": [
      "Average closing price over the last 7 days: $ 120.503\n"
     ]
    }
   ],
   "source": [
    "Average=np.average(Close_list)\n",
    "Average=round(Average,3)\n",
    "print(\"Average closing price over the last 7 days: $\",Average)"
   ]
  },
  {
   "cell_type": "code",
   "execution_count": null,
   "metadata": {},
   "outputs": [],
   "source": []
  },
  {
   "cell_type": "code",
   "execution_count": 79,
   "metadata": {},
   "outputs": [
    {
     "name": "stdout",
     "output_type": "stream",
     "text": [
      "843.5200119018555\n",
      "7\n",
      "Average closing price over the last 7 days: $ 120.503\n"
     ]
    }
   ],
   "source": [
    "Sum=0\n",
    "count=0\n",
    "for i in Close_list:\n",
    "    Sum+=i\n",
    "    count+=1\n",
    "print(Sum)\n",
    "print(count)\n",
    "average=Sum/count\n",
    "average=round(average,3)\n",
    "print(\"Average closing price over the last 7 days: $\",average)\n",
    "    "
   ]
  },
  {
   "cell_type": "markdown",
   "metadata": {},
   "source": [
    "# QUESTION 2\n",
    "\n",
    "# Prompts the user to input a stock ticker symbol.Retrieves all available stock data parameters (like Open, High, Low, Close, Volume, etc.) \n",
    "# for the last one month. Stores this data in a Pandas DataFrame.Displays the DataFrame.\n"
   ]
  },
  {
   "cell_type": "code",
   "execution_count": 15,
   "metadata": {},
   "outputs": [
    {
     "name": "stdin",
     "output_type": "stream",
     "text": [
      "Enter any ticker symbol: AAPL\n"
     ]
    },
    {
     "name": "stderr",
     "output_type": "stream",
     "text": [
      "[*********************100%***********************]  1 of 1 completed\n"
     ]
    }
   ],
   "source": [
    "user_input=input(\"Enter any ticker symbol:\")\n",
    "data1=yf.Ticker(user_input)\n",
    "df=yf.download(user_input)"
   ]
  },
  {
   "cell_type": "code",
   "execution_count": 16,
   "metadata": {},
   "outputs": [
    {
     "data": {
      "text/html": [
       "<div>\n",
       "<style scoped>\n",
       "    .dataframe tbody tr th:only-of-type {\n",
       "        vertical-align: middle;\n",
       "    }\n",
       "\n",
       "    .dataframe tbody tr th {\n",
       "        vertical-align: top;\n",
       "    }\n",
       "\n",
       "    .dataframe thead th {\n",
       "        text-align: right;\n",
       "    }\n",
       "</style>\n",
       "<table border=\"1\" class=\"dataframe\">\n",
       "  <thead>\n",
       "    <tr style=\"text-align: right;\">\n",
       "      <th></th>\n",
       "      <th>Open</th>\n",
       "      <th>High</th>\n",
       "      <th>Low</th>\n",
       "      <th>Close</th>\n",
       "      <th>Adj Close</th>\n",
       "      <th>Volume</th>\n",
       "    </tr>\n",
       "    <tr>\n",
       "      <th>Date</th>\n",
       "      <th></th>\n",
       "      <th></th>\n",
       "      <th></th>\n",
       "      <th></th>\n",
       "      <th></th>\n",
       "      <th></th>\n",
       "    </tr>\n",
       "  </thead>\n",
       "  <tbody>\n",
       "    <tr>\n",
       "      <th>1980-12-12</th>\n",
       "      <td>0.128348</td>\n",
       "      <td>0.128906</td>\n",
       "      <td>0.128348</td>\n",
       "      <td>0.128348</td>\n",
       "      <td>0.098943</td>\n",
       "      <td>469033600</td>\n",
       "    </tr>\n",
       "    <tr>\n",
       "      <th>1980-12-15</th>\n",
       "      <td>0.122210</td>\n",
       "      <td>0.122210</td>\n",
       "      <td>0.121652</td>\n",
       "      <td>0.121652</td>\n",
       "      <td>0.093781</td>\n",
       "      <td>175884800</td>\n",
       "    </tr>\n",
       "    <tr>\n",
       "      <th>1980-12-16</th>\n",
       "      <td>0.113281</td>\n",
       "      <td>0.113281</td>\n",
       "      <td>0.112723</td>\n",
       "      <td>0.112723</td>\n",
       "      <td>0.086898</td>\n",
       "      <td>105728000</td>\n",
       "    </tr>\n",
       "    <tr>\n",
       "      <th>1980-12-17</th>\n",
       "      <td>0.115513</td>\n",
       "      <td>0.116071</td>\n",
       "      <td>0.115513</td>\n",
       "      <td>0.115513</td>\n",
       "      <td>0.089049</td>\n",
       "      <td>86441600</td>\n",
       "    </tr>\n",
       "    <tr>\n",
       "      <th>1980-12-18</th>\n",
       "      <td>0.118862</td>\n",
       "      <td>0.119420</td>\n",
       "      <td>0.118862</td>\n",
       "      <td>0.118862</td>\n",
       "      <td>0.091630</td>\n",
       "      <td>73449600</td>\n",
       "    </tr>\n",
       "    <tr>\n",
       "      <th>...</th>\n",
       "      <td>...</td>\n",
       "      <td>...</td>\n",
       "      <td>...</td>\n",
       "      <td>...</td>\n",
       "      <td>...</td>\n",
       "      <td>...</td>\n",
       "    </tr>\n",
       "    <tr>\n",
       "      <th>2024-09-23</th>\n",
       "      <td>227.339996</td>\n",
       "      <td>229.449997</td>\n",
       "      <td>225.809998</td>\n",
       "      <td>226.470001</td>\n",
       "      <td>226.470001</td>\n",
       "      <td>54146000</td>\n",
       "    </tr>\n",
       "    <tr>\n",
       "      <th>2024-09-24</th>\n",
       "      <td>228.649994</td>\n",
       "      <td>229.350006</td>\n",
       "      <td>225.729996</td>\n",
       "      <td>227.369995</td>\n",
       "      <td>227.369995</td>\n",
       "      <td>43556100</td>\n",
       "    </tr>\n",
       "    <tr>\n",
       "      <th>2024-09-25</th>\n",
       "      <td>224.929993</td>\n",
       "      <td>227.289993</td>\n",
       "      <td>224.020004</td>\n",
       "      <td>226.369995</td>\n",
       "      <td>226.369995</td>\n",
       "      <td>42308700</td>\n",
       "    </tr>\n",
       "    <tr>\n",
       "      <th>2024-09-26</th>\n",
       "      <td>227.300003</td>\n",
       "      <td>228.500000</td>\n",
       "      <td>225.410004</td>\n",
       "      <td>227.520004</td>\n",
       "      <td>227.520004</td>\n",
       "      <td>36636700</td>\n",
       "    </tr>\n",
       "    <tr>\n",
       "      <th>2024-09-27</th>\n",
       "      <td>228.460007</td>\n",
       "      <td>229.520004</td>\n",
       "      <td>227.300003</td>\n",
       "      <td>227.789993</td>\n",
       "      <td>227.789993</td>\n",
       "      <td>33993600</td>\n",
       "    </tr>\n",
       "  </tbody>\n",
       "</table>\n",
       "<p>11040 rows × 6 columns</p>\n",
       "</div>"
      ],
      "text/plain": [
       "                  Open        High         Low       Close   Adj Close  \\\n",
       "Date                                                                     \n",
       "1980-12-12    0.128348    0.128906    0.128348    0.128348    0.098943   \n",
       "1980-12-15    0.122210    0.122210    0.121652    0.121652    0.093781   \n",
       "1980-12-16    0.113281    0.113281    0.112723    0.112723    0.086898   \n",
       "1980-12-17    0.115513    0.116071    0.115513    0.115513    0.089049   \n",
       "1980-12-18    0.118862    0.119420    0.118862    0.118862    0.091630   \n",
       "...                ...         ...         ...         ...         ...   \n",
       "2024-09-23  227.339996  229.449997  225.809998  226.470001  226.470001   \n",
       "2024-09-24  228.649994  229.350006  225.729996  227.369995  227.369995   \n",
       "2024-09-25  224.929993  227.289993  224.020004  226.369995  226.369995   \n",
       "2024-09-26  227.300003  228.500000  225.410004  227.520004  227.520004   \n",
       "2024-09-27  228.460007  229.520004  227.300003  227.789993  227.789993   \n",
       "\n",
       "               Volume  \n",
       "Date                   \n",
       "1980-12-12  469033600  \n",
       "1980-12-15  175884800  \n",
       "1980-12-16  105728000  \n",
       "1980-12-17   86441600  \n",
       "1980-12-18   73449600  \n",
       "...               ...  \n",
       "2024-09-23   54146000  \n",
       "2024-09-24   43556100  \n",
       "2024-09-25   42308700  \n",
       "2024-09-26   36636700  \n",
       "2024-09-27   33993600  \n",
       "\n",
       "[11040 rows x 6 columns]"
      ]
     },
     "execution_count": 16,
     "metadata": {},
     "output_type": "execute_result"
    }
   ],
   "source": [
    "df"
   ]
  },
  {
   "cell_type": "code",
   "execution_count": 63,
   "metadata": {},
   "outputs": [],
   "source": [
    "# pd_dataframe=df[['Open','High','Low','Close']]\n",
    "# pd_dataframe"
   ]
  },
  {
   "cell_type": "code",
   "execution_count": 64,
   "metadata": {},
   "outputs": [],
   "source": [
    "from datetime import datetime, timedelta"
   ]
  },
  {
   "cell_type": "code",
   "execution_count": 65,
   "metadata": {},
   "outputs": [],
   "source": [
    "enddate = datetime.today()\n",
    "startdate = end_date - timedelta(days=30)"
   ]
  },
  {
   "cell_type": "code",
   "execution_count": 66,
   "metadata": {},
   "outputs": [
    {
     "name": "stderr",
     "output_type": "stream",
     "text": [
      "[*********************100%***********************]  1 of 1 completed\n"
     ]
    }
   ],
   "source": [
    "stock = yf.download(user_input, start=start_date, end=end_date)\n"
   ]
  },
  {
   "cell_type": "code",
   "execution_count": 67,
   "metadata": {},
   "outputs": [
    {
     "data": {
      "text/html": [
       "<div>\n",
       "<style scoped>\n",
       "    .dataframe tbody tr th:only-of-type {\n",
       "        vertical-align: middle;\n",
       "    }\n",
       "\n",
       "    .dataframe tbody tr th {\n",
       "        vertical-align: top;\n",
       "    }\n",
       "\n",
       "    .dataframe thead th {\n",
       "        text-align: right;\n",
       "    }\n",
       "</style>\n",
       "<table border=\"1\" class=\"dataframe\">\n",
       "  <thead>\n",
       "    <tr style=\"text-align: right;\">\n",
       "      <th></th>\n",
       "      <th>Open</th>\n",
       "      <th>High</th>\n",
       "      <th>Low</th>\n",
       "      <th>Close</th>\n",
       "    </tr>\n",
       "    <tr>\n",
       "      <th>Date</th>\n",
       "      <th></th>\n",
       "      <th></th>\n",
       "      <th></th>\n",
       "      <th></th>\n",
       "    </tr>\n",
       "  </thead>\n",
       "  <tbody>\n",
       "    <tr>\n",
       "      <th>2024-09-03</th>\n",
       "      <td>116.010002</td>\n",
       "      <td>116.209999</td>\n",
       "      <td>107.290001</td>\n",
       "      <td>108.000000</td>\n",
       "    </tr>\n",
       "    <tr>\n",
       "      <th>2024-09-04</th>\n",
       "      <td>105.410004</td>\n",
       "      <td>113.269997</td>\n",
       "      <td>104.120003</td>\n",
       "      <td>106.209999</td>\n",
       "    </tr>\n",
       "    <tr>\n",
       "      <th>2024-09-05</th>\n",
       "      <td>104.989998</td>\n",
       "      <td>109.650002</td>\n",
       "      <td>104.760002</td>\n",
       "      <td>107.209999</td>\n",
       "    </tr>\n",
       "    <tr>\n",
       "      <th>2024-09-06</th>\n",
       "      <td>108.040001</td>\n",
       "      <td>108.150002</td>\n",
       "      <td>100.949997</td>\n",
       "      <td>102.830002</td>\n",
       "    </tr>\n",
       "    <tr>\n",
       "      <th>2024-09-09</th>\n",
       "      <td>104.879997</td>\n",
       "      <td>106.550003</td>\n",
       "      <td>103.690002</td>\n",
       "      <td>106.470001</td>\n",
       "    </tr>\n",
       "    <tr>\n",
       "      <th>2024-09-10</th>\n",
       "      <td>107.809998</td>\n",
       "      <td>109.400002</td>\n",
       "      <td>104.949997</td>\n",
       "      <td>108.099998</td>\n",
       "    </tr>\n",
       "    <tr>\n",
       "      <th>2024-09-11</th>\n",
       "      <td>109.389999</td>\n",
       "      <td>117.190002</td>\n",
       "      <td>107.419998</td>\n",
       "      <td>116.910004</td>\n",
       "    </tr>\n",
       "    <tr>\n",
       "      <th>2024-09-12</th>\n",
       "      <td>116.839996</td>\n",
       "      <td>120.790001</td>\n",
       "      <td>115.379997</td>\n",
       "      <td>119.139999</td>\n",
       "    </tr>\n",
       "    <tr>\n",
       "      <th>2024-09-13</th>\n",
       "      <td>119.080002</td>\n",
       "      <td>119.959999</td>\n",
       "      <td>117.599998</td>\n",
       "      <td>119.099998</td>\n",
       "    </tr>\n",
       "    <tr>\n",
       "      <th>2024-09-16</th>\n",
       "      <td>116.790001</td>\n",
       "      <td>118.180000</td>\n",
       "      <td>114.360001</td>\n",
       "      <td>116.779999</td>\n",
       "    </tr>\n",
       "    <tr>\n",
       "      <th>2024-09-17</th>\n",
       "      <td>118.169998</td>\n",
       "      <td>118.800003</td>\n",
       "      <td>114.830002</td>\n",
       "      <td>115.589996</td>\n",
       "    </tr>\n",
       "    <tr>\n",
       "      <th>2024-09-18</th>\n",
       "      <td>115.889999</td>\n",
       "      <td>117.699997</td>\n",
       "      <td>113.220001</td>\n",
       "      <td>113.370003</td>\n",
       "    </tr>\n",
       "    <tr>\n",
       "      <th>2024-09-19</th>\n",
       "      <td>117.349998</td>\n",
       "      <td>119.660004</td>\n",
       "      <td>117.250000</td>\n",
       "      <td>117.870003</td>\n",
       "    </tr>\n",
       "    <tr>\n",
       "      <th>2024-09-20</th>\n",
       "      <td>117.059998</td>\n",
       "      <td>118.620003</td>\n",
       "      <td>115.389999</td>\n",
       "      <td>116.000000</td>\n",
       "    </tr>\n",
       "    <tr>\n",
       "      <th>2024-09-23</th>\n",
       "      <td>116.550003</td>\n",
       "      <td>116.989998</td>\n",
       "      <td>114.860001</td>\n",
       "      <td>116.260002</td>\n",
       "    </tr>\n",
       "    <tr>\n",
       "      <th>2024-09-24</th>\n",
       "      <td>116.519997</td>\n",
       "      <td>121.800003</td>\n",
       "      <td>115.379997</td>\n",
       "      <td>120.870003</td>\n",
       "    </tr>\n",
       "    <tr>\n",
       "      <th>2024-09-25</th>\n",
       "      <td>122.019997</td>\n",
       "      <td>124.940002</td>\n",
       "      <td>121.610001</td>\n",
       "      <td>123.510002</td>\n",
       "    </tr>\n",
       "    <tr>\n",
       "      <th>2024-09-26</th>\n",
       "      <td>126.800003</td>\n",
       "      <td>127.669998</td>\n",
       "      <td>121.800003</td>\n",
       "      <td>124.040001</td>\n",
       "    </tr>\n",
       "    <tr>\n",
       "      <th>2024-09-27</th>\n",
       "      <td>123.970001</td>\n",
       "      <td>124.029999</td>\n",
       "      <td>119.260002</td>\n",
       "      <td>121.400002</td>\n",
       "    </tr>\n",
       "    <tr>\n",
       "      <th>2024-09-30</th>\n",
       "      <td>118.309998</td>\n",
       "      <td>121.500000</td>\n",
       "      <td>118.150002</td>\n",
       "      <td>121.440002</td>\n",
       "    </tr>\n",
       "  </tbody>\n",
       "</table>\n",
       "</div>"
      ],
      "text/plain": [
       "                  Open        High         Low       Close\n",
       "Date                                                      \n",
       "2024-09-03  116.010002  116.209999  107.290001  108.000000\n",
       "2024-09-04  105.410004  113.269997  104.120003  106.209999\n",
       "2024-09-05  104.989998  109.650002  104.760002  107.209999\n",
       "2024-09-06  108.040001  108.150002  100.949997  102.830002\n",
       "2024-09-09  104.879997  106.550003  103.690002  106.470001\n",
       "2024-09-10  107.809998  109.400002  104.949997  108.099998\n",
       "2024-09-11  109.389999  117.190002  107.419998  116.910004\n",
       "2024-09-12  116.839996  120.790001  115.379997  119.139999\n",
       "2024-09-13  119.080002  119.959999  117.599998  119.099998\n",
       "2024-09-16  116.790001  118.180000  114.360001  116.779999\n",
       "2024-09-17  118.169998  118.800003  114.830002  115.589996\n",
       "2024-09-18  115.889999  117.699997  113.220001  113.370003\n",
       "2024-09-19  117.349998  119.660004  117.250000  117.870003\n",
       "2024-09-20  117.059998  118.620003  115.389999  116.000000\n",
       "2024-09-23  116.550003  116.989998  114.860001  116.260002\n",
       "2024-09-24  116.519997  121.800003  115.379997  120.870003\n",
       "2024-09-25  122.019997  124.940002  121.610001  123.510002\n",
       "2024-09-26  126.800003  127.669998  121.800003  124.040001\n",
       "2024-09-27  123.970001  124.029999  119.260002  121.400002\n",
       "2024-09-30  118.309998  121.500000  118.150002  121.440002"
      ]
     },
     "execution_count": 67,
     "metadata": {},
     "output_type": "execute_result"
    }
   ],
   "source": [
    "stock_data= stock[['Open','High','Low','Close']]\n",
    "stock_data"
   ]
  },
  {
   "cell_type": "code",
   "execution_count": 80,
   "metadata": {},
   "outputs": [],
   "source": [
    "# data= pd.period_range(start='28-08-2024', end='28-09-2024')\n",
    "# print(data)\n",
    "# df1 = pd.DataFrame({'value': range(len(data))}, index=data)\n",
    "# # stock_data=pd.DataFrame('df1',columns=['Open','close','Low','High'])\n",
    "# df2 = pd.DataFrame(df1, columns=['Open', 'Close', 'High','Low'])\n",
    "# df2.ffill()\n"
   ]
  },
  {
   "cell_type": "markdown",
   "metadata": {},
   "source": [
    "# QUESTION 3\n",
    "\n",
    "# Prompts the user to input a stock ticker symbol.Retrieves the historical stock data for the last 6 months.Calculates the daily returns of the stock.\n",
    "# Computes and displays the statistical summary (mean, standard deviation, min, max) of these daily returns using NumPy and Pandas. Plots a \n",
    "# histogram of the daily returns distribution.\n"
   ]
  },
  {
   "cell_type": "code",
   "execution_count": 19,
   "metadata": {},
   "outputs": [],
   "source": [
    "#third Question\n"
   ]
  },
  {
   "cell_type": "code",
   "execution_count": 11,
   "metadata": {},
   "outputs": [
    {
     "name": "stdin",
     "output_type": "stream",
     "text": [
      "Enter the ticker Symbol: NVDA\n"
     ]
    },
    {
     "name": "stderr",
     "output_type": "stream",
     "text": [
      "[*********************100%***********************]  1 of 1 completed\n"
     ]
    }
   ],
   "source": [
    "user_input=input(\"Enter the ticker Symbol:\")\n",
    "data=yf.Ticker(user_input)\n",
    "df=yf.download(user_input)"
   ]
  },
  {
   "cell_type": "code",
   "execution_count": 12,
   "metadata": {},
   "outputs": [
    {
     "data": {
      "text/html": [
       "<div>\n",
       "<style scoped>\n",
       "    .dataframe tbody tr th:only-of-type {\n",
       "        vertical-align: middle;\n",
       "    }\n",
       "\n",
       "    .dataframe tbody tr th {\n",
       "        vertical-align: top;\n",
       "    }\n",
       "\n",
       "    .dataframe thead th {\n",
       "        text-align: right;\n",
       "    }\n",
       "</style>\n",
       "<table border=\"1\" class=\"dataframe\">\n",
       "  <thead>\n",
       "    <tr style=\"text-align: right;\">\n",
       "      <th></th>\n",
       "      <th>Open</th>\n",
       "      <th>High</th>\n",
       "      <th>Low</th>\n",
       "      <th>Close</th>\n",
       "      <th>Adj Close</th>\n",
       "      <th>Volume</th>\n",
       "    </tr>\n",
       "    <tr>\n",
       "      <th>Date</th>\n",
       "      <th></th>\n",
       "      <th></th>\n",
       "      <th></th>\n",
       "      <th></th>\n",
       "      <th></th>\n",
       "      <th></th>\n",
       "    </tr>\n",
       "  </thead>\n",
       "  <tbody>\n",
       "    <tr>\n",
       "      <th>1999-01-22</th>\n",
       "      <td>0.043750</td>\n",
       "      <td>0.048828</td>\n",
       "      <td>0.038802</td>\n",
       "      <td>0.041016</td>\n",
       "      <td>0.037618</td>\n",
       "      <td>2714688000</td>\n",
       "    </tr>\n",
       "    <tr>\n",
       "      <th>1999-01-25</th>\n",
       "      <td>0.044271</td>\n",
       "      <td>0.045833</td>\n",
       "      <td>0.041016</td>\n",
       "      <td>0.045313</td>\n",
       "      <td>0.041559</td>\n",
       "      <td>510480000</td>\n",
       "    </tr>\n",
       "    <tr>\n",
       "      <th>1999-01-26</th>\n",
       "      <td>0.045833</td>\n",
       "      <td>0.046745</td>\n",
       "      <td>0.041146</td>\n",
       "      <td>0.041797</td>\n",
       "      <td>0.038334</td>\n",
       "      <td>343200000</td>\n",
       "    </tr>\n",
       "    <tr>\n",
       "      <th>1999-01-27</th>\n",
       "      <td>0.041927</td>\n",
       "      <td>0.042969</td>\n",
       "      <td>0.039583</td>\n",
       "      <td>0.041667</td>\n",
       "      <td>0.038215</td>\n",
       "      <td>244368000</td>\n",
       "    </tr>\n",
       "    <tr>\n",
       "      <th>1999-01-28</th>\n",
       "      <td>0.041667</td>\n",
       "      <td>0.041927</td>\n",
       "      <td>0.041276</td>\n",
       "      <td>0.041536</td>\n",
       "      <td>0.038095</td>\n",
       "      <td>227520000</td>\n",
       "    </tr>\n",
       "    <tr>\n",
       "      <th>...</th>\n",
       "      <td>...</td>\n",
       "      <td>...</td>\n",
       "      <td>...</td>\n",
       "      <td>...</td>\n",
       "      <td>...</td>\n",
       "      <td>...</td>\n",
       "    </tr>\n",
       "    <tr>\n",
       "      <th>2024-09-24</th>\n",
       "      <td>116.519997</td>\n",
       "      <td>121.800003</td>\n",
       "      <td>115.379997</td>\n",
       "      <td>120.870003</td>\n",
       "      <td>120.870003</td>\n",
       "      <td>354966800</td>\n",
       "    </tr>\n",
       "    <tr>\n",
       "      <th>2024-09-25</th>\n",
       "      <td>122.019997</td>\n",
       "      <td>124.940002</td>\n",
       "      <td>121.610001</td>\n",
       "      <td>123.510002</td>\n",
       "      <td>123.510002</td>\n",
       "      <td>284692900</td>\n",
       "    </tr>\n",
       "    <tr>\n",
       "      <th>2024-09-26</th>\n",
       "      <td>126.800003</td>\n",
       "      <td>127.669998</td>\n",
       "      <td>121.800003</td>\n",
       "      <td>124.040001</td>\n",
       "      <td>124.040001</td>\n",
       "      <td>302582900</td>\n",
       "    </tr>\n",
       "    <tr>\n",
       "      <th>2024-09-27</th>\n",
       "      <td>123.970001</td>\n",
       "      <td>124.029999</td>\n",
       "      <td>119.260002</td>\n",
       "      <td>121.400002</td>\n",
       "      <td>121.400002</td>\n",
       "      <td>271009200</td>\n",
       "    </tr>\n",
       "    <tr>\n",
       "      <th>2024-09-30</th>\n",
       "      <td>118.309998</td>\n",
       "      <td>121.500000</td>\n",
       "      <td>118.150002</td>\n",
       "      <td>121.440002</td>\n",
       "      <td>121.440002</td>\n",
       "      <td>226553700</td>\n",
       "    </tr>\n",
       "  </tbody>\n",
       "</table>\n",
       "<p>6464 rows × 6 columns</p>\n",
       "</div>"
      ],
      "text/plain": [
       "                  Open        High         Low       Close   Adj Close  \\\n",
       "Date                                                                     \n",
       "1999-01-22    0.043750    0.048828    0.038802    0.041016    0.037618   \n",
       "1999-01-25    0.044271    0.045833    0.041016    0.045313    0.041559   \n",
       "1999-01-26    0.045833    0.046745    0.041146    0.041797    0.038334   \n",
       "1999-01-27    0.041927    0.042969    0.039583    0.041667    0.038215   \n",
       "1999-01-28    0.041667    0.041927    0.041276    0.041536    0.038095   \n",
       "...                ...         ...         ...         ...         ...   \n",
       "2024-09-24  116.519997  121.800003  115.379997  120.870003  120.870003   \n",
       "2024-09-25  122.019997  124.940002  121.610001  123.510002  123.510002   \n",
       "2024-09-26  126.800003  127.669998  121.800003  124.040001  124.040001   \n",
       "2024-09-27  123.970001  124.029999  119.260002  121.400002  121.400002   \n",
       "2024-09-30  118.309998  121.500000  118.150002  121.440002  121.440002   \n",
       "\n",
       "                Volume  \n",
       "Date                    \n",
       "1999-01-22  2714688000  \n",
       "1999-01-25   510480000  \n",
       "1999-01-26   343200000  \n",
       "1999-01-27   244368000  \n",
       "1999-01-28   227520000  \n",
       "...                ...  \n",
       "2024-09-24   354966800  \n",
       "2024-09-25   284692900  \n",
       "2024-09-26   302582900  \n",
       "2024-09-27   271009200  \n",
       "2024-09-30   226553700  \n",
       "\n",
       "[6464 rows x 6 columns]"
      ]
     },
     "execution_count": 12,
     "metadata": {},
     "output_type": "execute_result"
    }
   ],
   "source": [
    "df"
   ]
  },
  {
   "cell_type": "code",
   "execution_count": 22,
   "metadata": {},
   "outputs": [],
   "source": [
    "col_close=df['Close']\n"
   ]
  },
  {
   "cell_type": "code",
   "execution_count": 14,
   "metadata": {},
   "outputs": [
    {
     "name": "stdout",
     "output_type": "stream",
     "text": [
      "Statistical Summary of Daily Returns:\n",
      "Mean Return: 6.939\n"
     ]
    }
   ],
   "source": [
    "print(\"Statistical Summary of Daily Returns:\")\n",
    "Mean=col_close.mean()\n",
    "Mean=round(Mean, 3)\n",
    "print(\"Mean Returns:\", Mean)"
   ]
  },
  {
   "cell_type": "code",
   "execution_count": 15,
   "metadata": {},
   "outputs": [
    {
     "name": "stdout",
     "output_type": "stream",
     "text": [
      "Standard Deviation of Returns: 18.397\n"
     ]
    }
   ],
   "source": [
    "Std_deviation=col_close.std()\n",
    "Std_deviation=round(Std_deviation,3)\n",
    "print(\"Standard Deviation of Returns:\",Std_deviation)"
   ]
  },
  {
   "cell_type": "code",
   "execution_count": 16,
   "metadata": {},
   "outputs": [
    {
     "name": "stdout",
     "output_type": "stream",
     "text": [
      "Minimum Return:  0.034\n"
     ]
    }
   ],
   "source": [
    "Min=col_close.min()\n",
    "Min=round(Min,3)\n",
    "print(\"Minimum Return: \",Min)"
   ]
  },
  {
   "cell_type": "code",
   "execution_count": 17,
   "metadata": {},
   "outputs": [
    {
     "name": "stdout",
     "output_type": "stream",
     "text": [
      "Maximum Return: 135.58\n"
     ]
    }
   ],
   "source": [
    "Max=col_close.max()\n",
    "Max=round(Max,3)\n",
    "print(\"Maximum Return:\",Max)"
   ]
  },
  {
   "cell_type": "code",
   "execution_count": 76,
   "metadata": {},
   "outputs": [],
   "source": [
    "x=[Mean,Std_deviation,Min,Max]\n",
    "# print(x)\n",
    "# x"
   ]
  },
  {
   "cell_type": "code",
   "execution_count": 25,
   "metadata": {},
   "outputs": [
    {
     "data": {
      "text/plain": [
       "[6.939, 18.397, 0.034, 135.58]"
      ]
     },
     "execution_count": 25,
     "metadata": {},
     "output_type": "execute_result"
    }
   ],
   "source": [
    "res=[]\n",
    "for i in x:\n",
    "    res+=[float(i)]\n",
    "res"
   ]
  },
  {
   "cell_type": "code",
   "execution_count": 26,
   "metadata": {},
   "outputs": [],
   "source": [
    "import matplotlib.pyplot as plt"
   ]
  },
  {
   "cell_type": "code",
   "execution_count": 27,
   "metadata": {},
   "outputs": [
    {
     "data": {
      "text/plain": [
       "(array([2., 1., 0., 0., 0., 0., 0., 0., 0., 1.]),\n",
       " array([3.400000e-02, 1.358860e+01, 2.714320e+01, 4.069780e+01,\n",
       "        5.425240e+01, 6.780700e+01, 8.136160e+01, 9.491620e+01,\n",
       "        1.084708e+02, 1.220254e+02, 1.355800e+02]),\n",
       " <BarContainer object of 10 artists>)"
      ]
     },
     "execution_count": 27,
     "metadata": {},
     "output_type": "execute_result"
    },
    {
     "data": {
      "image/png": "[encoded data removed]",
      "text/plain": [
       "<Figure size 640x480 with 1 Axes>"
      ]
     },
     "metadata": {},
     "output_type": "display_data"
    }
   ],
   "source": [
    "plt.hist(x)"
   ]
  },
  {
   "cell_type": "code",
   "execution_count": null,
   "metadata": {},
   "outputs": [],
   "source": []
  }
 ],
 "metadata": {
  "kernelspec": {
   "display_name": "Python 3 (ipykernel)",
   "language": "python",
   "name": "python3"
  },
  "language_info": {
   "codemirror_mode": {
    "name": "ipython",
    "version": 3
   },
   "file_extension": ".py",
   "mimetype": "text/x-python",
   "name": "python",
   "nbconvert_exporter": "python",
   "pygments_lexer": "ipython3",
   "version": "3.10.0"
  }
 },
 "nbformat": 4,
 "nbformat_minor": 4
}
